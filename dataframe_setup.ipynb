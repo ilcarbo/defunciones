{
 "cells": [
  {
   "cell_type": "code",
   "execution_count": 294,
   "metadata": {
    "Collapsed": "false"
   },
   "outputs": [],
   "source": [
    "import pandas as pd\n",
    "import glob\n",
    "import pickle"
   ]
  },
  {
   "cell_type": "code",
   "execution_count": 295,
   "metadata": {
    "Collapsed": "false"
   },
   "outputs": [],
   "source": [
    "# importar y concatenar todos los datasets anuales\n",
    "path = './datasets'\n",
    "all_files = glob.glob(path + \"/*.csv\")\n",
    "\n",
    "defunc = []\n",
    "for file in all_files:\n",
    "    df = pd.read_csv(file, encoding = \"latin1\")\n",
    "    defunc.append(df)\n",
    "    \n",
    "defunciones = pd.concat(defunc, axis = 0, ignore_index= True)"
   ]
  },
  {
   "cell_type": "code",
   "execution_count": 296,
   "metadata": {
    "Collapsed": "false"
   },
   "outputs": [
    {
     "data": {
      "text/html": [
       "<div>\n",
       "<style scoped>\n",
       "    .dataframe tbody tr th:only-of-type {\n",
       "        vertical-align: middle;\n",
       "    }\n",
       "\n",
       "    .dataframe tbody tr th {\n",
       "        vertical-align: top;\n",
       "    }\n",
       "\n",
       "    .dataframe thead th {\n",
       "        text-align: right;\n",
       "    }\n",
       "</style>\n",
       "<table border=\"1\" class=\"dataframe\">\n",
       "  <thead>\n",
       "    <tr style=\"text-align: right;\">\n",
       "      <th></th>\n",
       "      <th>PROVRES</th>\n",
       "      <th>SEXO</th>\n",
       "      <th>CAUSA</th>\n",
       "      <th>MAT</th>\n",
       "      <th>GRUPEDAD</th>\n",
       "      <th>CUENTA</th>\n",
       "    </tr>\n",
       "  </thead>\n",
       "  <tbody>\n",
       "    <tr>\n",
       "      <td>0</td>\n",
       "      <td>50</td>\n",
       "      <td>2</td>\n",
       "      <td>R99</td>\n",
       "      <td></td>\n",
       "      <td>11_50 a 54</td>\n",
       "      <td>10</td>\n",
       "    </tr>\n",
       "    <tr>\n",
       "      <td>1</td>\n",
       "      <td>14</td>\n",
       "      <td>1</td>\n",
       "      <td>F10</td>\n",
       "      <td></td>\n",
       "      <td>12_55 a 59</td>\n",
       "      <td>1</td>\n",
       "    </tr>\n",
       "    <tr>\n",
       "      <td>2</td>\n",
       "      <td>62</td>\n",
       "      <td>1</td>\n",
       "      <td>N05</td>\n",
       "      <td></td>\n",
       "      <td>17_80 y más</td>\n",
       "      <td>1</td>\n",
       "    </tr>\n",
       "    <tr>\n",
       "      <td>3</td>\n",
       "      <td>74</td>\n",
       "      <td>2</td>\n",
       "      <td>C26</td>\n",
       "      <td></td>\n",
       "      <td>17_80 y más</td>\n",
       "      <td>3</td>\n",
       "    </tr>\n",
       "    <tr>\n",
       "      <td>4</td>\n",
       "      <td>6</td>\n",
       "      <td>1</td>\n",
       "      <td>G30</td>\n",
       "      <td></td>\n",
       "      <td>13_60 a 64</td>\n",
       "      <td>3</td>\n",
       "    </tr>\n",
       "  </tbody>\n",
       "</table>\n",
       "</div>"
      ],
      "text/plain": [
       "   PROVRES  SEXO CAUSA MAT     GRUPEDAD  CUENTA\n",
       "0       50     2   R99       11_50 a 54      10\n",
       "1       14     1   F10       12_55 a 59       1\n",
       "2       62     1   N05      17_80 y más       1\n",
       "3       74     2   C26      17_80 y más       3\n",
       "4        6     1   G30       13_60 a 64       3"
      ]
     },
     "execution_count": 296,
     "metadata": {},
     "output_type": "execute_result"
    }
   ],
   "source": [
    "# CHECKEAR DATAFRAME\n",
    "defunciones.head()"
   ]
  },
  {
   "cell_type": "code",
   "execution_count": 297,
   "metadata": {
    "Collapsed": "false"
   },
   "outputs": [
    {
     "data": {
      "text/plain": [
       "PROVRES          0\n",
       "SEXO             0\n",
       "CAUSA            0\n",
       "MAT         565602\n",
       "GRUPEDAD         0\n",
       "CUENTA           0\n",
       "dtype: int64"
      ]
     },
     "execution_count": 297,
     "metadata": {},
     "output_type": "execute_result"
    }
   ],
   "source": [
    "# CHECEKAR SI HAY NULLS\n",
    "defunciones.isna().sum()"
   ]
  },
  {
   "cell_type": "code",
   "execution_count": 298,
   "metadata": {
    "Collapsed": "false"
   },
   "outputs": [],
   "source": [
    "# ELIMINAR COLUMNA MAT PORQUE NO LA VOY A USAR\n",
    "defunciones.drop('MAT', axis= 1, inplace= True)"
   ]
  },
  {
   "cell_type": "code",
   "execution_count": 299,
   "metadata": {
    "Collapsed": "false"
   },
   "outputs": [],
   "source": [
    "# CHECKEAR CUÁNTAS ENTRADAS HAY DE SEXO \"SIN ESPECIFICAR\"\n",
    "#defunciones.SEXO.value_counts()\n",
    "# ELIMINARLAS\n",
    "defunciones = defunciones.loc[defunciones['SEXO'] != 9]"
   ]
  },
  {
   "cell_type": "code",
   "execution_count": 59,
   "metadata": {
    "Collapsed": "false"
   },
   "outputs": [
    {
     "ename": "NameError",
     "evalue": "name 'TODO' is not defined",
     "output_type": "error",
     "traceback": [
      "\u001b[1;31m---------------------------------------------------------------------------\u001b[0m",
      "\u001b[1;31mNameError\u001b[0m                                 Traceback (most recent call last)",
      "\u001b[1;32m<ipython-input-59-3f68ce5c5f52>\u001b[0m in \u001b[0;36m<module>\u001b[1;34m\u001b[0m\n\u001b[0;32m      1\u001b[0m \u001b[1;31m# REEMPLAZAR CÓDIGO DE SEXO POR VALOR\u001b[0m\u001b[1;33m\u001b[0m\u001b[1;33m\u001b[0m\u001b[1;33m\u001b[0m\u001b[0m\n\u001b[1;32m----> 2\u001b[1;33m \u001b[0mTODO\u001b[0m\u001b[1;33m\u001b[0m\u001b[1;33m\u001b[0m\u001b[0m\n\u001b[0m",
      "\u001b[1;31mNameError\u001b[0m: name 'TODO' is not defined"
     ]
    }
   ],
   "source": [
    "# REEMPLAZAR CÓDIGO DE SEXO POR VALOR\n",
    "TODO"
   ]
  },
  {
   "cell_type": "code",
   "execution_count": 300,
   "metadata": {
    "Collapsed": "false"
   },
   "outputs": [],
   "source": [
    "# SACAR EL PREFIJO DE CADA GRUPO PARA QUE QUEDE SÓLO EL NOMBRE DEL GRUPO ETARIO\n",
    "defunciones.GRUPEDAD = defunciones.GRUPEDAD.apply(lambda x: x.split('_')[1])"
   ]
  },
  {
   "cell_type": "code",
   "execution_count": 301,
   "metadata": {
    "Collapsed": "false"
   },
   "outputs": [],
   "source": [
    "# CHECKEAR distribución de datos por grupos etarios\n",
    "#defunciones.GRUPEDAD.value_counts()\n",
    "# ELIMINAR REGISTROS CON GRUPO ETARIO SIN ESPECIFICAR\n",
    "defunciones = defunciones.loc[defunciones['GRUPEDAD'] != 'Sin especificar']"
   ]
  },
  {
   "cell_type": "code",
   "execution_count": 290,
   "metadata": {
    "Collapsed": "false"
   },
   "outputs": [],
   "source": [
    "'''\n",
    "# CAMBIAR LOS RANGOS EXPLICITOS EN FORMATO STRING POR RANGOS NUMÉRICOS\n",
    "for a, b in defunciones.GRUPEDAD.iteritems():\n",
    "    if b == '80 y más':\n",
    "        defunciones.at[a, 'GRUPEDAD'] = list(range(80,115))\n",
    "    elif b == 'Menor de 1 año':\n",
    "        defunciones.at[a, 'GRUPEDAD'] = 0\n",
    "    else:\n",
    "        defunciones.at[a, 'GRUPEDAD'] = list(range(int(b.split(' a ')[0]), int(b.split(' a ')[1]) + 1))\n",
    "'''"
   ]
  },
  {
   "cell_type": "code",
   "execution_count": 302,
   "metadata": {
    "Collapsed": "false"
   },
   "outputs": [],
   "source": [
    "# IMPORTAR REFERENCIAS DE CÓDIGOS PARA CADA COLUMNA\n",
    "provincias = pd.read_excel('./datasets/DescDef1 (1).xlsx', sheet_name= 'PROVRES')\n",
    "causa = pd.read_excel('./datasets/DescDef1 (1).xlsx', sheet_name= 'CODMUER')"
   ]
  },
  {
   "cell_type": "code",
   "execution_count": 303,
   "metadata": {
    "Collapsed": "false"
   },
   "outputs": [],
   "source": [
    "# CHECKEAR DF PROVINCIAS Y CAMBIAR NOMBRES DE COLUMNAS\n",
    "#provincias.head()\n",
    "provincias.columns = ['PROVRES', 'PROVINCIA']"
   ]
  },
  {
   "cell_type": "code",
   "execution_count": 304,
   "metadata": {
    "Collapsed": "false"
   },
   "outputs": [],
   "source": [
    "# CHECKEAR DF CAUSA Y CAMBIAR NOMBRES DE COLUMNAS\n",
    "#causa.head()\n",
    "causa.columns = ['CAUSA', 'DESCRIPCION']"
   ]
  },
  {
   "cell_type": "code",
   "execution_count": 354,
   "metadata": {
    "Collapsed": "false"
   },
   "outputs": [],
   "source": [
    "# guardar causa como csv\n",
    "causa.to_csv('./causa.csv', index= False)"
   ]
  },
  {
   "cell_type": "code",
   "execution_count": 305,
   "metadata": {
    "Collapsed": "false"
   },
   "outputs": [],
   "source": [
    "# CHECKEAR CANTIDAD DE PROVINCIA = OTRO PAIS Y LUGAR NO ESPECIFICADO (CODS 98 Y 99)\n",
    "# defunciones['PROVRES'].value_counts()\n",
    "# ELIMINAR ESOS REGISTROS\n",
    "defunciones = defunciones.loc[(defunciones['PROVRES'] != 99) & (defunciones['PROVRES'] != 98)]"
   ]
  },
  {
   "cell_type": "code",
   "execution_count": 306,
   "metadata": {
    "Collapsed": "false"
   },
   "outputs": [],
   "source": [
    "# Generar diccionarios de códigos de provincias y causas a partir del df \n",
    "prov_dict = provincias.set_index('PROVRES')['PROVINCIA'].to_dict()\n",
    "def_dict = causa.set_index('CAUSA')['DESCRIPCION'].to_dict()"
   ]
  },
  {
   "cell_type": "code",
   "execution_count": 307,
   "metadata": {
    "Collapsed": "false"
   },
   "outputs": [],
   "source": [
    "# REEMPLAZAR LOS VALORES DE LA COLUMNA MAPEANDO A LOS VALORES DEL DICCIONARIO RECIÉN CREADO\n",
    "#OPCION --> defunciones.replace({\"PROVRES\": prueba})\n",
    "defunciones['PROVRES'] = defunciones[\"PROVRES\"].map(prov_dict)"
   ]
  },
  {
   "cell_type": "code",
   "execution_count": 308,
   "metadata": {
    "Collapsed": "false"
   },
   "outputs": [],
   "source": [
    "# AGRUPAR DATOS POR PROVINCIA, SEXO, GRUPO ETARIO Y CAUSA, sumar cuentas\n",
    "agrupado = defunciones.groupby(['PROVRES', 'SEXO', 'GRUPEDAD', 'CAUSA']).sum()"
   ]
  },
  {
   "cell_type": "code",
   "execution_count": 309,
   "metadata": {
    "Collapsed": "false"
   },
   "outputs": [],
   "source": [
    "# RESETEAR LOS INDICES PARA TENER UNA FILA POR CADA COMBINACIÓN DE CONDICIONES\n",
    "agrupado.reset_index(inplace= True)"
   ]
  },
  {
   "cell_type": "code",
   "execution_count": 340,
   "metadata": {
    "Collapsed": "false"
   },
   "outputs": [],
   "source": [
    "# GENERAR UNA TABLA PIVOTE A PARTIR DE LOS DATOS AGRUPADOS PARA QUE LAS COLUMNAS PASEN A SER LAS CAUSAS Y LOS VALORES LA CUENTA\n",
    "por_causa = pd.pivot_table(agrupado, index= ['PROVRES', 'SEXO', 'GRUPEDAD'], values= 'CUENTA', columns= 'CAUSA')"
   ]
  },
  {
   "cell_type": "code",
   "execution_count": 341,
   "metadata": {
    "Collapsed": "false"
   },
   "outputs": [],
   "source": [
    "# RESETEAR LOS INDICES PARA TENER UNA FILA POR CADA COMBINACIÓN DE CONDICIONES\n",
    "por_causa.reset_index(inplace= True)"
   ]
  },
  {
   "cell_type": "code",
   "execution_count": 344,
   "metadata": {
    "Collapsed": "false"
   },
   "outputs": [
    {
     "data": {
      "text/html": [
       "<div>\n",
       "<style scoped>\n",
       "    .dataframe tbody tr th:only-of-type {\n",
       "        vertical-align: middle;\n",
       "    }\n",
       "\n",
       "    .dataframe tbody tr th {\n",
       "        vertical-align: top;\n",
       "    }\n",
       "\n",
       "    .dataframe thead th {\n",
       "        text-align: right;\n",
       "    }\n",
       "</style>\n",
       "<table border=\"1\" class=\"dataframe\">\n",
       "  <thead>\n",
       "    <tr style=\"text-align: right;\">\n",
       "      <th>CAUSA</th>\n",
       "      <th>PROVRES</th>\n",
       "      <th>SEXO</th>\n",
       "      <th>GRUPEDAD</th>\n",
       "      <th>A01</th>\n",
       "      <th>A02</th>\n",
       "      <th>A03</th>\n",
       "      <th>A04</th>\n",
       "      <th>A05</th>\n",
       "      <th>A06</th>\n",
       "      <th>A07</th>\n",
       "      <th>...</th>\n",
       "      <th>Y80</th>\n",
       "      <th>Y81</th>\n",
       "      <th>Y82</th>\n",
       "      <th>Y83</th>\n",
       "      <th>Y84</th>\n",
       "      <th>Y85</th>\n",
       "      <th>Y86</th>\n",
       "      <th>Y87</th>\n",
       "      <th>Y88</th>\n",
       "      <th>Y89</th>\n",
       "    </tr>\n",
       "  </thead>\n",
       "  <tbody>\n",
       "    <tr>\n",
       "      <td>0</td>\n",
       "      <td>Buenos Aires</td>\n",
       "      <td>1</td>\n",
       "      <td>(1, 2, 3, 4, 5, 6, 7, 8, 9)</td>\n",
       "      <td>NaN</td>\n",
       "      <td>NaN</td>\n",
       "      <td>NaN</td>\n",
       "      <td>1.0</td>\n",
       "      <td>1.0</td>\n",
       "      <td>NaN</td>\n",
       "      <td>NaN</td>\n",
       "      <td>...</td>\n",
       "      <td>NaN</td>\n",
       "      <td>NaN</td>\n",
       "      <td>NaN</td>\n",
       "      <td>20.0</td>\n",
       "      <td>NaN</td>\n",
       "      <td>NaN</td>\n",
       "      <td>NaN</td>\n",
       "      <td>NaN</td>\n",
       "      <td>NaN</td>\n",
       "      <td>NaN</td>\n",
       "    </tr>\n",
       "    <tr>\n",
       "      <td>1</td>\n",
       "      <td>Buenos Aires</td>\n",
       "      <td>1</td>\n",
       "      <td>(10, 11, 12, 13, 14)</td>\n",
       "      <td>NaN</td>\n",
       "      <td>NaN</td>\n",
       "      <td>NaN</td>\n",
       "      <td>NaN</td>\n",
       "      <td>1.0</td>\n",
       "      <td>NaN</td>\n",
       "      <td>NaN</td>\n",
       "      <td>...</td>\n",
       "      <td>NaN</td>\n",
       "      <td>NaN</td>\n",
       "      <td>NaN</td>\n",
       "      <td>6.0</td>\n",
       "      <td>NaN</td>\n",
       "      <td>NaN</td>\n",
       "      <td>NaN</td>\n",
       "      <td>NaN</td>\n",
       "      <td>NaN</td>\n",
       "      <td>NaN</td>\n",
       "    </tr>\n",
       "    <tr>\n",
       "      <td>2</td>\n",
       "      <td>Buenos Aires</td>\n",
       "      <td>1</td>\n",
       "      <td>(15, 16, 17, 18, 19)</td>\n",
       "      <td>NaN</td>\n",
       "      <td>NaN</td>\n",
       "      <td>NaN</td>\n",
       "      <td>NaN</td>\n",
       "      <td>NaN</td>\n",
       "      <td>NaN</td>\n",
       "      <td>NaN</td>\n",
       "      <td>...</td>\n",
       "      <td>NaN</td>\n",
       "      <td>NaN</td>\n",
       "      <td>NaN</td>\n",
       "      <td>8.0</td>\n",
       "      <td>1.0</td>\n",
       "      <td>NaN</td>\n",
       "      <td>NaN</td>\n",
       "      <td>NaN</td>\n",
       "      <td>NaN</td>\n",
       "      <td>NaN</td>\n",
       "    </tr>\n",
       "    <tr>\n",
       "      <td>3</td>\n",
       "      <td>Buenos Aires</td>\n",
       "      <td>1</td>\n",
       "      <td>(20, 21, 22, 23, 24)</td>\n",
       "      <td>NaN</td>\n",
       "      <td>NaN</td>\n",
       "      <td>NaN</td>\n",
       "      <td>NaN</td>\n",
       "      <td>NaN</td>\n",
       "      <td>NaN</td>\n",
       "      <td>NaN</td>\n",
       "      <td>...</td>\n",
       "      <td>NaN</td>\n",
       "      <td>NaN</td>\n",
       "      <td>NaN</td>\n",
       "      <td>5.0</td>\n",
       "      <td>NaN</td>\n",
       "      <td>NaN</td>\n",
       "      <td>NaN</td>\n",
       "      <td>NaN</td>\n",
       "      <td>NaN</td>\n",
       "      <td>NaN</td>\n",
       "    </tr>\n",
       "    <tr>\n",
       "      <td>4</td>\n",
       "      <td>Buenos Aires</td>\n",
       "      <td>1</td>\n",
       "      <td>(25, 26, 27, 28, 29)</td>\n",
       "      <td>NaN</td>\n",
       "      <td>NaN</td>\n",
       "      <td>NaN</td>\n",
       "      <td>NaN</td>\n",
       "      <td>NaN</td>\n",
       "      <td>NaN</td>\n",
       "      <td>NaN</td>\n",
       "      <td>...</td>\n",
       "      <td>NaN</td>\n",
       "      <td>NaN</td>\n",
       "      <td>NaN</td>\n",
       "      <td>10.0</td>\n",
       "      <td>1.0</td>\n",
       "      <td>NaN</td>\n",
       "      <td>NaN</td>\n",
       "      <td>NaN</td>\n",
       "      <td>NaN</td>\n",
       "      <td>NaN</td>\n",
       "    </tr>\n",
       "    <tr>\n",
       "      <td>...</td>\n",
       "      <td>...</td>\n",
       "      <td>...</td>\n",
       "      <td>...</td>\n",
       "      <td>...</td>\n",
       "      <td>...</td>\n",
       "      <td>...</td>\n",
       "      <td>...</td>\n",
       "      <td>...</td>\n",
       "      <td>...</td>\n",
       "      <td>...</td>\n",
       "      <td>...</td>\n",
       "      <td>...</td>\n",
       "      <td>...</td>\n",
       "      <td>...</td>\n",
       "      <td>...</td>\n",
       "      <td>...</td>\n",
       "      <td>...</td>\n",
       "      <td>...</td>\n",
       "      <td>...</td>\n",
       "      <td>...</td>\n",
       "      <td>...</td>\n",
       "    </tr>\n",
       "    <tr>\n",
       "      <td>811</td>\n",
       "      <td>Tucumán</td>\n",
       "      <td>2</td>\n",
       "      <td>(65, 66, 67, 68, 69)</td>\n",
       "      <td>NaN</td>\n",
       "      <td>NaN</td>\n",
       "      <td>NaN</td>\n",
       "      <td>NaN</td>\n",
       "      <td>NaN</td>\n",
       "      <td>NaN</td>\n",
       "      <td>NaN</td>\n",
       "      <td>...</td>\n",
       "      <td>NaN</td>\n",
       "      <td>NaN</td>\n",
       "      <td>NaN</td>\n",
       "      <td>28.0</td>\n",
       "      <td>NaN</td>\n",
       "      <td>NaN</td>\n",
       "      <td>NaN</td>\n",
       "      <td>NaN</td>\n",
       "      <td>NaN</td>\n",
       "      <td>NaN</td>\n",
       "    </tr>\n",
       "    <tr>\n",
       "      <td>812</td>\n",
       "      <td>Tucumán</td>\n",
       "      <td>2</td>\n",
       "      <td>(70, 71, 72, 73, 74)</td>\n",
       "      <td>NaN</td>\n",
       "      <td>NaN</td>\n",
       "      <td>NaN</td>\n",
       "      <td>NaN</td>\n",
       "      <td>NaN</td>\n",
       "      <td>NaN</td>\n",
       "      <td>NaN</td>\n",
       "      <td>...</td>\n",
       "      <td>NaN</td>\n",
       "      <td>NaN</td>\n",
       "      <td>NaN</td>\n",
       "      <td>33.0</td>\n",
       "      <td>NaN</td>\n",
       "      <td>NaN</td>\n",
       "      <td>NaN</td>\n",
       "      <td>NaN</td>\n",
       "      <td>NaN</td>\n",
       "      <td>NaN</td>\n",
       "    </tr>\n",
       "    <tr>\n",
       "      <td>813</td>\n",
       "      <td>Tucumán</td>\n",
       "      <td>2</td>\n",
       "      <td>(75, 76, 77, 78, 79)</td>\n",
       "      <td>NaN</td>\n",
       "      <td>NaN</td>\n",
       "      <td>NaN</td>\n",
       "      <td>NaN</td>\n",
       "      <td>NaN</td>\n",
       "      <td>NaN</td>\n",
       "      <td>NaN</td>\n",
       "      <td>...</td>\n",
       "      <td>NaN</td>\n",
       "      <td>NaN</td>\n",
       "      <td>NaN</td>\n",
       "      <td>24.0</td>\n",
       "      <td>NaN</td>\n",
       "      <td>NaN</td>\n",
       "      <td>1.0</td>\n",
       "      <td>NaN</td>\n",
       "      <td>NaN</td>\n",
       "      <td>NaN</td>\n",
       "    </tr>\n",
       "    <tr>\n",
       "      <td>814</td>\n",
       "      <td>Tucumán</td>\n",
       "      <td>2</td>\n",
       "      <td>(80, 81, 82, 83, 84, 85, 86, 87, 88, 89, 90, 9...</td>\n",
       "      <td>NaN</td>\n",
       "      <td>NaN</td>\n",
       "      <td>NaN</td>\n",
       "      <td>NaN</td>\n",
       "      <td>NaN</td>\n",
       "      <td>NaN</td>\n",
       "      <td>NaN</td>\n",
       "      <td>...</td>\n",
       "      <td>NaN</td>\n",
       "      <td>NaN</td>\n",
       "      <td>NaN</td>\n",
       "      <td>87.0</td>\n",
       "      <td>1.0</td>\n",
       "      <td>NaN</td>\n",
       "      <td>NaN</td>\n",
       "      <td>NaN</td>\n",
       "      <td>NaN</td>\n",
       "      <td>NaN</td>\n",
       "    </tr>\n",
       "    <tr>\n",
       "      <td>815</td>\n",
       "      <td>Tucumán</td>\n",
       "      <td>2</td>\n",
       "      <td>(0)</td>\n",
       "      <td>NaN</td>\n",
       "      <td>NaN</td>\n",
       "      <td>NaN</td>\n",
       "      <td>1.0</td>\n",
       "      <td>NaN</td>\n",
       "      <td>NaN</td>\n",
       "      <td>NaN</td>\n",
       "      <td>...</td>\n",
       "      <td>NaN</td>\n",
       "      <td>NaN</td>\n",
       "      <td>NaN</td>\n",
       "      <td>NaN</td>\n",
       "      <td>NaN</td>\n",
       "      <td>NaN</td>\n",
       "      <td>NaN</td>\n",
       "      <td>NaN</td>\n",
       "      <td>NaN</td>\n",
       "      <td>NaN</td>\n",
       "    </tr>\n",
       "  </tbody>\n",
       "</table>\n",
       "<p>816 rows × 1441 columns</p>\n",
       "</div>"
      ],
      "text/plain": [
       "CAUSA       PROVRES  SEXO                                           GRUPEDAD  \\\n",
       "0      Buenos Aires     1                        (1, 2, 3, 4, 5, 6, 7, 8, 9)   \n",
       "1      Buenos Aires     1                               (10, 11, 12, 13, 14)   \n",
       "2      Buenos Aires     1                               (15, 16, 17, 18, 19)   \n",
       "3      Buenos Aires     1                               (20, 21, 22, 23, 24)   \n",
       "4      Buenos Aires     1                               (25, 26, 27, 28, 29)   \n",
       "..              ...   ...                                                ...   \n",
       "811         Tucumán     2                               (65, 66, 67, 68, 69)   \n",
       "812         Tucumán     2                               (70, 71, 72, 73, 74)   \n",
       "813         Tucumán     2                               (75, 76, 77, 78, 79)   \n",
       "814         Tucumán     2  (80, 81, 82, 83, 84, 85, 86, 87, 88, 89, 90, 9...   \n",
       "815         Tucumán     2                                                (0)   \n",
       "\n",
       "CAUSA  A01  A02  A03  A04  A05  A06  A07  ...  Y80  Y81  Y82   Y83  Y84  Y85  \\\n",
       "0      NaN  NaN  NaN  1.0  1.0  NaN  NaN  ...  NaN  NaN  NaN  20.0  NaN  NaN   \n",
       "1      NaN  NaN  NaN  NaN  1.0  NaN  NaN  ...  NaN  NaN  NaN   6.0  NaN  NaN   \n",
       "2      NaN  NaN  NaN  NaN  NaN  NaN  NaN  ...  NaN  NaN  NaN   8.0  1.0  NaN   \n",
       "3      NaN  NaN  NaN  NaN  NaN  NaN  NaN  ...  NaN  NaN  NaN   5.0  NaN  NaN   \n",
       "4      NaN  NaN  NaN  NaN  NaN  NaN  NaN  ...  NaN  NaN  NaN  10.0  1.0  NaN   \n",
       "..     ...  ...  ...  ...  ...  ...  ...  ...  ...  ...  ...   ...  ...  ...   \n",
       "811    NaN  NaN  NaN  NaN  NaN  NaN  NaN  ...  NaN  NaN  NaN  28.0  NaN  NaN   \n",
       "812    NaN  NaN  NaN  NaN  NaN  NaN  NaN  ...  NaN  NaN  NaN  33.0  NaN  NaN   \n",
       "813    NaN  NaN  NaN  NaN  NaN  NaN  NaN  ...  NaN  NaN  NaN  24.0  NaN  NaN   \n",
       "814    NaN  NaN  NaN  NaN  NaN  NaN  NaN  ...  NaN  NaN  NaN  87.0  1.0  NaN   \n",
       "815    NaN  NaN  NaN  1.0  NaN  NaN  NaN  ...  NaN  NaN  NaN   NaN  NaN  NaN   \n",
       "\n",
       "CAUSA  Y86  Y87  Y88  Y89  \n",
       "0      NaN  NaN  NaN  NaN  \n",
       "1      NaN  NaN  NaN  NaN  \n",
       "2      NaN  NaN  NaN  NaN  \n",
       "3      NaN  NaN  NaN  NaN  \n",
       "4      NaN  NaN  NaN  NaN  \n",
       "..     ...  ...  ...  ...  \n",
       "811    NaN  NaN  NaN  NaN  \n",
       "812    NaN  NaN  NaN  NaN  \n",
       "813    1.0  NaN  NaN  NaN  \n",
       "814    NaN  NaN  NaN  NaN  \n",
       "815    NaN  NaN  NaN  NaN  \n",
       "\n",
       "[816 rows x 1441 columns]"
      ]
     },
     "execution_count": 344,
     "metadata": {},
     "output_type": "execute_result"
    }
   ],
   "source": [
    "por_causa"
   ]
  },
  {
   "cell_type": "code",
   "execution_count": 343,
   "metadata": {
    "Collapsed": "false"
   },
   "outputs": [],
   "source": [
    "# CAMBIAR LOS RANGOS EXPLICITOS EN FORMATO STRING POR RANGOS NUMÉRICOS\n",
    "for a, b in por_causa.GRUPEDAD.iteritems():\n",
    "    if b == '80 y más':\n",
    "        por_causa.at[a, 'GRUPEDAD'] = range(80,115)\n",
    "    elif b == 'Menor de 1 año':\n",
    "        por_causa.at[a, 'GRUPEDAD'] = range(0,1)\n",
    "    else:\n",
    "        por_causa.at[a, 'GRUPEDAD'] = range(int(b.split(' a ')[0]), int(b.split(' a ')[1]) + 1)"
   ]
  },
  {
   "cell_type": "code",
   "execution_count": 346,
   "metadata": {
    "Collapsed": "false"
   },
   "outputs": [],
   "source": [
    "por_causa.to_pickle('por_causa.pkl')"
   ]
  },
  {
   "cell_type": "code",
   "execution_count": 278,
   "metadata": {
    "Collapsed": "false"
   },
   "outputs": [],
   "source": [
    "por_causa.to_csv('por_causa.csv', index= False)"
   ]
  },
  {
   "cell_type": "markdown",
   "metadata": {
    "Collapsed": "false"
   },
   "source": [
    "--------------------"
   ]
  },
  {
   "cell_type": "markdown",
   "metadata": {
    "Collapsed": "false"
   },
   "source": [
    "### HACER ESTO DIRECTAMENTE EN EL SCRIPT"
   ]
  },
  {
   "cell_type": "code",
   "execution_count": 348,
   "metadata": {
    "Collapsed": "false"
   },
   "outputs": [],
   "source": [
    "a = test2.loc[(test2['PROVRES'] == 'Buenos Aires') & (test2['SEXO'] == 1) & (test2['GRUPEDAD'] == '1 a 9')]"
   ]
  },
  {
   "cell_type": "code",
   "execution_count": 349,
   "metadata": {
    "Collapsed": "false"
   },
   "outputs": [
    {
     "name": "stderr",
     "output_type": "stream",
     "text": [
      "C:\\ProgramData\\Anaconda3\\lib\\site-packages\\ipykernel_launcher.py:1: SettingWithCopyWarning: \n",
      "A value is trying to be set on a copy of a slice from a DataFrame\n",
      "\n",
      "See the caveats in the documentation: http://pandas.pydata.org/pandas-docs/stable/user_guide/indexing.html#returning-a-view-versus-a-copy\n",
      "  \"\"\"Entry point for launching an IPython kernel.\n"
     ]
    }
   ],
   "source": [
    "a.dropna(axis= 1, inplace= True)"
   ]
  },
  {
   "cell_type": "code",
   "execution_count": 350,
   "metadata": {
    "Collapsed": "false"
   },
   "outputs": [
    {
     "data": {
      "text/html": [
       "<div>\n",
       "<style scoped>\n",
       "    .dataframe tbody tr th:only-of-type {\n",
       "        vertical-align: middle;\n",
       "    }\n",
       "\n",
       "    .dataframe tbody tr th {\n",
       "        vertical-align: top;\n",
       "    }\n",
       "\n",
       "    .dataframe thead th {\n",
       "        text-align: right;\n",
       "    }\n",
       "</style>\n",
       "<table border=\"1\" class=\"dataframe\">\n",
       "  <thead>\n",
       "    <tr style=\"text-align: right;\">\n",
       "      <th>CAUSA</th>\n",
       "      <th>PROVRES</th>\n",
       "      <th>SEXO</th>\n",
       "      <th>GRUPEDAD</th>\n",
       "      <th>A04</th>\n",
       "      <th>A05</th>\n",
       "      <th>A09</th>\n",
       "      <th>A16</th>\n",
       "      <th>A17</th>\n",
       "      <th>A18</th>\n",
       "      <th>A19</th>\n",
       "      <th>...</th>\n",
       "      <th>Y19</th>\n",
       "      <th>Y20</th>\n",
       "      <th>Y21</th>\n",
       "      <th>Y24</th>\n",
       "      <th>Y26</th>\n",
       "      <th>Y28</th>\n",
       "      <th>Y33</th>\n",
       "      <th>Y34</th>\n",
       "      <th>Y59</th>\n",
       "      <th>Y83</th>\n",
       "    </tr>\n",
       "  </thead>\n",
       "  <tbody>\n",
       "    <tr>\n",
       "      <td>0</td>\n",
       "      <td>Buenos Aires</td>\n",
       "      <td>1</td>\n",
       "      <td>1 a 9</td>\n",
       "      <td>1.0</td>\n",
       "      <td>1.0</td>\n",
       "      <td>21.0</td>\n",
       "      <td>4.0</td>\n",
       "      <td>3.0</td>\n",
       "      <td>1.0</td>\n",
       "      <td>2.0</td>\n",
       "      <td>...</td>\n",
       "      <td>2.0</td>\n",
       "      <td>17.0</td>\n",
       "      <td>81.0</td>\n",
       "      <td>18.0</td>\n",
       "      <td>43.0</td>\n",
       "      <td>4.0</td>\n",
       "      <td>10.0</td>\n",
       "      <td>145.0</td>\n",
       "      <td>1.0</td>\n",
       "      <td>20.0</td>\n",
       "    </tr>\n",
       "  </tbody>\n",
       "</table>\n",
       "<p>1 rows × 364 columns</p>\n",
       "</div>"
      ],
      "text/plain": [
       "CAUSA       PROVRES  SEXO GRUPEDAD  A04  A05   A09  A16  A17  A18  A19  ...  \\\n",
       "0      Buenos Aires     1    1 a 9  1.0  1.0  21.0  4.0  3.0  1.0  2.0  ...   \n",
       "\n",
       "CAUSA  Y19   Y20   Y21   Y24   Y26  Y28   Y33    Y34  Y59   Y83  \n",
       "0      2.0  17.0  81.0  18.0  43.0  4.0  10.0  145.0  1.0  20.0  \n",
       "\n",
       "[1 rows x 364 columns]"
      ]
     },
     "execution_count": 350,
     "metadata": {},
     "output_type": "execute_result"
    }
   ],
   "source": [
    "a"
   ]
  },
  {
   "cell_type": "code",
   "execution_count": 161,
   "metadata": {
    "Collapsed": "false"
   },
   "outputs": [
    {
     "data": {
      "text/html": [
       "<div>\n",
       "<style scoped>\n",
       "    .dataframe tbody tr th:only-of-type {\n",
       "        vertical-align: middle;\n",
       "    }\n",
       "\n",
       "    .dataframe tbody tr th {\n",
       "        vertical-align: top;\n",
       "    }\n",
       "\n",
       "    .dataframe thead th {\n",
       "        text-align: right;\n",
       "    }\n",
       "</style>\n",
       "<table border=\"1\" class=\"dataframe\">\n",
       "  <thead>\n",
       "    <tr style=\"text-align: right;\">\n",
       "      <th>CAUSA</th>\n",
       "      <th>A04</th>\n",
       "      <th>A05</th>\n",
       "      <th>A09</th>\n",
       "      <th>A16</th>\n",
       "      <th>A17</th>\n",
       "      <th>A18</th>\n",
       "      <th>A19</th>\n",
       "      <th>A32</th>\n",
       "      <th>A37</th>\n",
       "      <th>A39</th>\n",
       "      <th>...</th>\n",
       "      <th>Y19</th>\n",
       "      <th>Y20</th>\n",
       "      <th>Y21</th>\n",
       "      <th>Y24</th>\n",
       "      <th>Y26</th>\n",
       "      <th>Y28</th>\n",
       "      <th>Y33</th>\n",
       "      <th>Y34</th>\n",
       "      <th>Y59</th>\n",
       "      <th>Y83</th>\n",
       "    </tr>\n",
       "  </thead>\n",
       "  <tbody>\n",
       "    <tr>\n",
       "      <td>0</td>\n",
       "      <td>1.0</td>\n",
       "      <td>1.0</td>\n",
       "      <td>21.0</td>\n",
       "      <td>4.0</td>\n",
       "      <td>3.0</td>\n",
       "      <td>1.0</td>\n",
       "      <td>2.0</td>\n",
       "      <td>2.0</td>\n",
       "      <td>1.0</td>\n",
       "      <td>20.0</td>\n",
       "      <td>...</td>\n",
       "      <td>2.0</td>\n",
       "      <td>17.0</td>\n",
       "      <td>81.0</td>\n",
       "      <td>18.0</td>\n",
       "      <td>43.0</td>\n",
       "      <td>4.0</td>\n",
       "      <td>10.0</td>\n",
       "      <td>145.0</td>\n",
       "      <td>1.0</td>\n",
       "      <td>20.0</td>\n",
       "    </tr>\n",
       "  </tbody>\n",
       "</table>\n",
       "<p>1 rows × 361 columns</p>\n",
       "</div>"
      ],
      "text/plain": [
       "CAUSA  A04  A05   A09  A16  A17  A18  A19  A32  A37   A39  ...  Y19   Y20  \\\n",
       "0      1.0  1.0  21.0  4.0  3.0  1.0  2.0  2.0  1.0  20.0  ...  2.0  17.0   \n",
       "\n",
       "CAUSA   Y21   Y24   Y26  Y28   Y33    Y34  Y59   Y83  \n",
       "0      81.0  18.0  43.0  4.0  10.0  145.0  1.0  20.0  \n",
       "\n",
       "[1 rows x 361 columns]"
      ]
     },
     "execution_count": 161,
     "metadata": {},
     "output_type": "execute_result"
    }
   ],
   "source": [
    "a.drop(['PROVRES', 'SEXO', 'GRUPEDAD'], axis= 1)"
   ]
  },
  {
   "cell_type": "code",
   "execution_count": 351,
   "metadata": {
    "Collapsed": "false"
   },
   "outputs": [],
   "source": [
    "b = a.drop(['PROVRES', 'SEXO', 'GRUPEDAD'], axis= 1).sort_values(by = 0, axis= 1, ascending= False)"
   ]
  },
  {
   "cell_type": "code",
   "execution_count": 352,
   "metadata": {
    "Collapsed": "false"
   },
   "outputs": [
    {
     "data": {
      "text/html": [
       "<div>\n",
       "<style scoped>\n",
       "    .dataframe tbody tr th:only-of-type {\n",
       "        vertical-align: middle;\n",
       "    }\n",
       "\n",
       "    .dataframe tbody tr th {\n",
       "        vertical-align: top;\n",
       "    }\n",
       "\n",
       "    .dataframe thead th {\n",
       "        text-align: right;\n",
       "    }\n",
       "</style>\n",
       "<table border=\"1\" class=\"dataframe\">\n",
       "  <thead>\n",
       "    <tr style=\"text-align: right;\">\n",
       "      <th>CAUSA</th>\n",
       "      <th>X59</th>\n",
       "      <th>R99</th>\n",
       "      <th>J18</th>\n",
       "      <th>A41</th>\n",
       "      <th>Q24</th>\n",
       "      <th>W74</th>\n",
       "      <th>V49</th>\n",
       "      <th>Y34</th>\n",
       "      <th>C91</th>\n",
       "      <th>G93</th>\n",
       "      <th>...</th>\n",
       "      <th>I74</th>\n",
       "      <th>I77</th>\n",
       "      <th>I87</th>\n",
       "      <th>I89</th>\n",
       "      <th>I99</th>\n",
       "      <th>J13</th>\n",
       "      <th>A05</th>\n",
       "      <th>J35</th>\n",
       "      <th>J43</th>\n",
       "      <th>J14</th>\n",
       "    </tr>\n",
       "  </thead>\n",
       "  <tbody>\n",
       "    <tr>\n",
       "      <td>0</td>\n",
       "      <td>269.0</td>\n",
       "      <td>242.0</td>\n",
       "      <td>240.0</td>\n",
       "      <td>229.0</td>\n",
       "      <td>210.0</td>\n",
       "      <td>190.0</td>\n",
       "      <td>149.0</td>\n",
       "      <td>145.0</td>\n",
       "      <td>144.0</td>\n",
       "      <td>139.0</td>\n",
       "      <td>...</td>\n",
       "      <td>1.0</td>\n",
       "      <td>1.0</td>\n",
       "      <td>1.0</td>\n",
       "      <td>1.0</td>\n",
       "      <td>1.0</td>\n",
       "      <td>1.0</td>\n",
       "      <td>1.0</td>\n",
       "      <td>1.0</td>\n",
       "      <td>1.0</td>\n",
       "      <td>1.0</td>\n",
       "    </tr>\n",
       "  </tbody>\n",
       "</table>\n",
       "<p>1 rows × 361 columns</p>\n",
       "</div>"
      ],
      "text/plain": [
       "CAUSA    X59    R99    J18    A41    Q24    W74    V49    Y34    C91    G93  \\\n",
       "0      269.0  242.0  240.0  229.0  210.0  190.0  149.0  145.0  144.0  139.0   \n",
       "\n",
       "CAUSA  ...  I74  I77  I87  I89  I99  J13  A05  J35  J43  J14  \n",
       "0      ...  1.0  1.0  1.0  1.0  1.0  1.0  1.0  1.0  1.0  1.0  \n",
       "\n",
       "[1 rows x 361 columns]"
      ]
     },
     "execution_count": 352,
     "metadata": {},
     "output_type": "execute_result"
    }
   ],
   "source": [
    "b"
   ]
  },
  {
   "cell_type": "code",
   "execution_count": 181,
   "metadata": {
    "Collapsed": "false"
   },
   "outputs": [
    {
     "data": {
      "text/plain": [
       "'Ocupante de automóvil lesionado en otros accidentes de transporte y en los no especificados'"
      ]
     },
     "execution_count": 181,
     "metadata": {},
     "output_type": "execute_result"
    }
   ],
   "source": [
    "def_dict[b.columns[6]]"
   ]
  }
 ],
 "metadata": {
  "kernelspec": {
   "display_name": "Python 3",
   "language": "python",
   "name": "python3"
  },
  "language_info": {
   "codemirror_mode": {
    "name": "ipython",
    "version": 3
   },
   "file_extension": ".py",
   "mimetype": "text/x-python",
   "name": "python",
   "nbconvert_exporter": "python",
   "pygments_lexer": "ipython3",
   "version": "3.7.1"
  }
 },
 "nbformat": 4,
 "nbformat_minor": 4
}
